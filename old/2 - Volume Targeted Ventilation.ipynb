{
 "cells": [
  {
   "cell_type": "code",
   "execution_count": null,
   "metadata": {},
   "outputs": [],
   "source": [
    "from VentSimulator.VolumeVentilator import VolumeVentilator\n",
    "import matplotlib.pyplot as plt\n",
    "%matplotlib inline\n",
    "vent = VolumeVentilator()\n",
    "vent.simulate(3) ## Simulate a 3 second period"
   ]
  },
  {
   "cell_type": "markdown",
   "metadata": {},
   "source": [
    "# Volume Targeted Ventilation\n",
    "We are going to start by modeling volume targeted ventilation. In volume control, we set:\n",
    "* The tidal volume\n",
    "* Either the amount of time that tidal volume is delivered (inspiratory time) or the inspiratory flow.\n",
    "* The pattern of the flow (i.e. is the flow constant or does it change over the respiratory cycle?)\n",
    "\n",
    "## Inspiration\n",
    "\n",
    "Let's start by drawing the waveforms that we would expect to see on the ventilator for the following settings:\n",
    "* Tidal Volume 500mL\n",
    "* Flow 1L/second (or 60L/min)\n",
    "* Constant flow\n",
    "* PEEP of zero\n",
    "Our patient has the following properties:\n",
    "* Compliance 50mL/cmH20\n",
    "* Resistance $10 \\frac{\\text{cmH}_2\\text{0}}{L \\times \\text{Second}^-1}$\n",
    "\n",
    "We will focus on the inspiratory portion of the curves only for now. Go ahead and draw the flow-time curve. When you're ready to see the answer, press run on the cell below."
   ]
  },
  {
   "cell_type": "code",
   "execution_count": null,
   "metadata": {},
   "outputs": [],
   "source": [
    "vent.plot('flow')"
   ]
  },
  {
   "cell_type": "markdown",
   "metadata": {},
   "source": [
    "Does your graph look like the one above? It should have:\n",
    "- constant flow (1L/second)\n",
    "- A 0.5s inspiratory cycle (0.5L / (1L/second))\n",
    "\n",
    "Now lets draw the curve for volume-time. Remember that flow is the rate of change in volume (and we have constant flow). When you're ready, press run on the cell below."
   ]
  },
  {
   "cell_type": "code",
   "execution_count": null,
   "metadata": {},
   "outputs": [],
   "source": [
    "vent.plot('volume')"
   ]
  },
  {
   "cell_type": "markdown",
   "metadata": {},
   "source": [
    "Does your graph look like the one above? It should have:\n",
    "- A constant slope from zero volume to 0.5L over 0.5s"
   ]
  },
  {
   "cell_type": "markdown",
   "metadata": {},
   "source": [
    "Alright,now all we have left is the pressure-time curve. Start by writing out the equation of motion:\n",
    "$$P = \\dot V R + \\frac{V}{C} + \\text{PEEP}$$\n",
    "\n",
    "Our ventilator doesn't show the alveolar pressure-time curve but we can draw it based on the volume-time curve. Remember that we are considering compliance a constant and the PEEP is zero so the relationship. What is the relationship between alveolar pressure and alveolar volume? (Hint: think about the defintion of compliance). The curves have the same shape! One is just a scaled version of the other!"
   ]
  },
  {
   "cell_type": "code",
   "execution_count": null,
   "metadata": {},
   "outputs": [],
   "source": [
    "vent.plot('p_alv')"
   ]
  },
  {
   "cell_type": "markdown",
   "metadata": {},
   "source": [
    "So the only terms left in the equation of motion is $\\dot VR$. We already said that flow is a constant (and R is a property of the patient). So the airway pressure-time curve is just the alveolar pressure-time curve with a constant term added:"
   ]
  },
  {
   "cell_type": "code",
   "execution_count": null,
   "metadata": {},
   "outputs": [],
   "source": [
    "vent.plot(['pressure', 'p_alv'])"
   ]
  },
  {
   "cell_type": "markdown",
   "metadata": {},
   "source": [
    "Now, lets do expiration\n",
    "\n",
    "## Expiration\n",
    "\n",
    "Expiration is a little more complex. At the very start of exhalation:\n",
    "- What is the alveolar pressure? (Hint: This has to be the same as the alveolar pressure at end-inhalation)\n",
    "- What is the airway pressure? (Hint: we set this on the ventilator)\n",
    "- What is the $\\Delta P$?\n",
    "\n",
    "Again, lets start with the simplest graph. Lets draw the pressure-time curve."
   ]
  },
  {
   "cell_type": "code",
   "execution_count": null,
   "metadata": {},
   "outputs": [],
   "source": [
    "vent.plot(['pressure'])"
   ]
  },
  {
   "cell_type": "markdown",
   "metadata": {},
   "source": [
    "That's right, when the ventilator cycles to exhalation the airway pressure is equal to PEEP. Now lets consider the flow-time curves. First, lets rearrange the equation of motion so that flow is by itself:\n",
    "\n",
    "$$\\begin{eqnarray} \n",
    "    \\text{P} & = & \\dot V R + \\frac{V}{C} + \\text{PEEP}\\\\\n",
    "    \\text{P} - \\frac{V}{C} + \\text{PEEP} & = & \\dot V R \\\\\n",
    "    \\dot V R & = & -\\frac{V}{C} \\\\\n",
    "    \\dot V & = & -\\frac{\\frac{V}{C}}{R}\n",
    "\\end{eqnarray}$$\n",
    "Note by convention, expiratory flow is negative.\n",
    "\n",
    "This expression has some interesting elements. First the rate of change of volume (i.e. flow) is proportional to the volume. This is the [natural (or exponential) decay equation](https://en.wikipedia.org/wiki/Exponential_decay) and the solution has the form:\n",
    "$$ V(t) = V_0 \\frac{1}{e^{\\frac{t}{RC}}} $$\n",
    "\n",
    "Through some crazy math, the equation for flow **has the same form**:\n",
    "$$ \\dot V(t) = \\dot V_0 \\frac{1}{e^{\\frac{t}{RC}}} $$\n",
    "\n",
    "We call $RC$ the time-constant. Sometimes we also all it $\\tau$ to be confusing. Let's consider a couple of interesting time points during exhalation. \n",
    "\n",
    "At time $t=0$, then $\\frac{0}{\\tau} = 0$ and $e^0 = 1$. This is good because it implies that $V(0) = V_0 \\frac{1}{1}$ and $\\dot V(0) = \\dot V_0 \\frac{1}{1}$. Alternatively we can say that at the very begining of exhalation: a) the remaining volume equals the inhaled volume b) the expiratory flow is at it's peak\n",
    "\n",
    "At time $t = RC$, then $\\frac{RC}{\\tau} = 1$ and $e^1 = e = 2.67$ or so. Thus after $RC$ seconds, the remaining volume is $\\frac{1}{e}$ or about 36.7% of the starting volume. The expiratory flow is also 36.7% of the peak expiratory flow. \n",
    "\n",
    "At time $t = 2RC$, then $\\frac{2RC}{\\tau} = 2$ and $e^2 = 7.39$ or so. Thus after $2RC$ seconds, the remaining volume is $\\frac{1}{e^2}$ or about 13.5% of the starting volume. The expiratory flow is also 13.5% of the peak expiratory flow. \n",
    "\n",
    "I've done the math for the first 7 time constants below:\n",
    "\n",
    "| Time Constant |  0  |  1  |  2  |  3  |  4  |  5  |  6  |  7  | \n",
    "| ------------- | --- | --- | --- | --- | --- | --- | --- | --- | \n",
    "| Precentage Remaining | 100.00% | 36.79% |13.53% |4.98% | 1.83% |0.67% |0.25% |0.09% | 0.03% |\n",
    "\n",
    "Go ahead and draw the Flow-Time and Volume-Time curves."
   ]
  },
  {
   "cell_type": "code",
   "execution_count": null,
   "metadata": {},
   "outputs": [],
   "source": [
    "vent.plot('flow')"
   ]
  },
  {
   "cell_type": "code",
   "execution_count": null,
   "metadata": {},
   "outputs": [],
   "source": [
    "vent.plot('volume')"
   ]
  },
  {
   "cell_type": "code",
   "execution_count": null,
   "metadata": {},
   "outputs": [],
   "source": []
  }
 ],
 "metadata": {
  "kernelspec": {
   "display_name": "Python [conda env:ds-base]",
   "language": "python",
   "name": "conda-env-ds-base-py"
  },
  "language_info": {
   "codemirror_mode": {
    "name": "ipython",
    "version": 3
   },
   "file_extension": ".py",
   "mimetype": "text/x-python",
   "name": "python",
   "nbconvert_exporter": "python",
   "pygments_lexer": "ipython3",
   "version": "3.7.2"
  }
 },
 "nbformat": 4,
 "nbformat_minor": 2
}
