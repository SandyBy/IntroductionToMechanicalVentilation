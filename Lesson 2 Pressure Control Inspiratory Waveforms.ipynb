{
 "cells": [
  {
   "cell_type": "code",
   "execution_count": null,
   "metadata": {
    "hide_input": true,
    "init_cell": true
   },
   "outputs": [],
   "source": [
    "from VentSimulator.VolumeVentilator import VolumeVentilator\n",
    "import matplotlib.pyplot as plt\n",
    "%matplotlib inline\n",
    "plt.rcParams['figure.figsize'] = (20.0, 5.0)\n",
    "vent = VolumeVentilator()\n",
    "vent.simulate(3)"
   ]
  },
  {
   "cell_type": "code",
   "execution_count": null,
   "metadata": {
    "hide_input": true,
    "init_cell": true
   },
   "outputs": [],
   "source": [
    "from VentSimulator.PressureVentilator import PressureVentilator\n",
    "import matplotlib.pyplot as plt\n",
    "%matplotlib inline\n",
    "plt.rcParams['figure.figsize'] = (20.0, 5.0)\n",
    "vent = PressureVentilator()\n",
    "vent.patient.resistance = 5\n",
    "vent['inspiratory_time'] = 1.0\n",
    "vent['respiratory_rate'] = 15\n",
    "vent['peep'] = 5\n",
    "vent['pressure_target'] = 10\n",
    "vent.simulate(3)"
   ]
  },
  {
   "cell_type": "markdown",
   "metadata": {},
   "source": [
    "# Lesson 2: Inspiratory breaths – Pressure support\n",
    "## Question 1\n",
    "A patient with static compliance of 0.05L/cmH2O is on PRESSURE CONTROL ventilation. PEEP is set at 5cm H2O. The patient is relaxed, not fighting the ventilator and breaths at a rate of 15.\n",
    "\n",
    "### How would one achieve an inspiratory time (IT) of 1 second?\n",
    "<details><summary>Answer</summary>                    \n",
    "In pressure control you set the IT\n",
    "</details>\n",
    "\n",
    "### What would the expiratory time be (ET)\n",
    "<details><summary>Answer</summary>                    \n",
    "You set the inspiratory time and the cycle length. At 15 breaths per minute there are 60/15 = 4 seconds per breath. The IT is 1 second so the ET is 4 - 1 = 3 seconds.\n",
    "</details>\n",
    "    \n",
    "### How would one achieve a tidal volume (TV) of 0.5L (Assume Palv=Paw at 1 second)?\n",
    "<details><summary>Answer</summary>\n",
    "We were given that $P_\\text{alveolar} = P_\\text{aw}$ after 1 second (the end of the inspiratory cycle). In this scenario, we need to calculate the $P_\\text{alv}$ (and thus $P_\\text{aw}$) that delivers a volume of 0.5L. This is the compliance calculation:\n",
    "    \n",
    "$$\n",
    "\\begin{eqnarray} \n",
    "C & = & \\Delta V/(P_\\text{plat} - P_\\text{PEEP}) \\\\\n",
    "C = 0.05L/\\text{cmH_2O} & = & 0.5L / (P_\\text{plat} - 5) \\\\\n",
    "P_\\text{plat} & = & \\frac{0.5L}{0.05L/\\text{cmH_2O}} + 5 = 15 \\text{cmH_2O}\n",
    "\\end{eqnarray} \n",
    "$$\n",
    "</details>    \n",
    "\n",
    "\n",
    "### What is the expected peak inspiratory (PIP) pressure?\n",
    "<details><summary>Answer</summary>\n",
    "PIP will be 10 (PC) + 5 (PEEP) = 15\n",
    "</details>\n",
    "\n",
    "### What is the expected plateau (Ppl) pressure (Assume Pavl=Paw at 1 second)?\n",
    "<details><summary>Answer</summary>\n",
    "Plateau pressure will = 15 if Palv = Paw at 1 second\n",
    "Paw = VR + V/C + PEEP\n",
    "Flow goes to zero at end inspiration (at 1 second)\n",
    "Paw = V/C + PEEP = 0.5L/0.05L/cmH2O + 5 = 15cm H2O\n",
    "</details>\n",
    "\n",
    "### How does the equation of motion apply to this patient?\n",
    "<details><summary>Answer</summary>\n",
    "In this patient the equation of motion saw Paw = VR + V/C + PEEP and at end inspiration (1 second) when flow goes to zero Paw = V/C + PEEP = Plateau pressure = Palveolar pressure\n",
    "</details>\n",
    "\n",
    "### Draw the expected airway pressure-time and flow-time curves\n",
    "<img src=\"img/pressure_time.png\">"
   ]
  },
  {
   "cell_type": "code",
   "execution_count": null,
   "metadata": {},
   "outputs": [],
   "source": [
    "vent.plot('pressure', axis = plt.subplot(1,2,1))\n",
    "vent.plot('flow', scalefactor = 60, axis = plt.subplot(1,2,2));"
   ]
  },
  {
   "cell_type": "markdown",
   "metadata": {},
   "source": [
    "### Of the Paw-time and flow-time curves, which is set by the ventilator and which is variable?\n",
    "<details><summary>Answer</summary>\n",
    "Pressure curve is set, flow curve is variable\n",
    "</details>\n",
    "\n",
    "### On a pressure volume curve, where is the patient at end expiratory and end inspiration?\n",
    "<img src=\"img/compliance_curve.png\">"
   ]
  },
  {
   "cell_type": "markdown",
   "metadata": {},
   "source": [
    "## Question 2\n",
    "The patient with static compliance of 0.05L/cm H2O is now on PRESSURE SUPPORT (PSV) ventilator. The pressure support is set at 10 and the PEEP is set at 5cm H2O. The patient is relaxed, not fighting the ventilator and breathes at a rate of 15.\n",
    "\n",
    "### How would one achieve an IT of 1 second?\n",
    "<details><summary>Answer</summary>\n",
    "You do not directly set the IT or ET in pressure support as it is a spontaneous mode of ventilation. \n",
    "</details>   \n",
    "\n",
    "### What would be the ET?\n",
    "<details><summary>Answer</summary>\n",
    "You do not directly set the IT or ET in pressure support as it is a spontaneous mode of ventilation. \n",
    "</details>   \n",
    "\n",
    "\n",
    "### How would one achieve a TV of 0.5L?\n",
    "<details><summary>Answer</summary>\n",
    "You do not directly set the tidal volume as it is a spontaneous mode of ventilation.\n",
    "</details>   \n",
    "\n",
    "### What is the expected PIP?\n",
    "<details><summary>Answer</summary>\n",
    "You set the peak inspiratory pressure in pressure support -- It is equal to pressure support + PEEP. In this scenario it will be equal to 15. \n",
    "</details>\n",
    "\n",
    "### What is the expected Ppl?\n",
    "<details><summary>Answer</summary>\n",
    "In pressure support, the trigger for switching from inspiration to expiration is based on the flow. This is always some precentage (i.e. 25%) of the peak flow and be definition this is greater than zero. Since the end expiratory flow is always positive (and we are assuming the patient is calm and relatively passive) then $P_\\text{aw} > P_\\text{plat}$. If the peak flow was 1.6L/s (100 L/min), then the airway resistance would be $ 0.25 * 1.6L/S * 10 \\text{cmH_2O}/L \\approx 4 cmH20$ and $P_\\text{plat}\n",
    "    \n",
    "    \n",
    "Plateau pressure in pressure support will be something less than the peak inspiratory pressure. Flow will NOT go to zero in PS. It goes to some preset rate (like 25% of peak flow) and then will cycle the breath. Since flow doesn’t go to zero, the peak airway pressure will NOT equal the plateau pressure\n",
    "So at the end of a breath there is still a pressure gradient from the main airways to the alveoli (because there is ongoing flow in the airway, but there is no flow in an alveoli) so Paw>Palv so if you need the pressure in the alveoli to reach 15 you will need to set the pressure support slightly above 15 so that when flow slows and cycles the breath there’s still enough flow to get to a pressure of 15 in the alveoli…\n",
    "</details>\n",
    "\n",
    "### How does the equation of motion apply to this patient?\n",
    "Paw = VR + V/C + PEEP\n",
    "In PSV, Paw pressure and PEEP were set\n",
    "Important to note there is continued flow at the end of a breath (flow does NOT go to zero) so Paw pressure is always going to be higher than the Palveolar\n",
    "</details>\n",
    "\n",
    "### Draw the expected Paw-time and flow-time curves\n",
    "\n",
    "### Of the Paw-time and flow-time curves, which is set by the ventilator and which is variable?\n",
    "Paw-time curve is set\n",
    "On a pressure-volume curve, where is the patient at end expiration and end inspiration"
   ]
  },
  {
   "cell_type": "code",
   "execution_count": null,
   "metadata": {},
   "outputs": [],
   "source": []
  }
 ],
 "metadata": {
  "celltoolbar": "Initialization Cell",
  "kernelspec": {
   "display_name": "Python [conda env:vent_binder]",
   "language": "python",
   "name": "conda-env-vent_binder-py"
  },
  "language_info": {
   "codemirror_mode": {
    "name": "ipython",
    "version": 3
   },
   "file_extension": ".py",
   "mimetype": "text/x-python",
   "name": "python",
   "nbconvert_exporter": "python",
   "pygments_lexer": "ipython3",
   "version": "3.7.4"
  }
 },
 "nbformat": 4,
 "nbformat_minor": 2
}
