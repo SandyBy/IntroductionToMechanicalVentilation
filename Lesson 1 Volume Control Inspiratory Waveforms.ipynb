{
 "cells": [
  {
   "cell_type": "code",
   "execution_count": null,
   "metadata": {},
   "outputs": [],
   "source": [
    "from VentSimulator.VolumeVentilator import VolumeVentilator\n",
    "import matplotlib.pyplot as plt\n",
    "%matplotlib inline\n",
    "vent = VolumeVentilator()\n",
    "vent.simulate(3) ## Simulate a 3 second period"
   ]
  },
  {
   "cell_type": "markdown",
   "metadata": {},
   "source": [
    "# INSPIRATORY WAVEFORMS: VOLUME\n",
    "## Question 1\n",
    "A patient with static compliance of 0.05L/cmH2O is on VOLUME CONTROL SQUARE WAVE flow ventilation. TV is 0.5L and PEEP is 5cm H2O. Assume the patient is relaxed and not fighting the ventilator. Respiratory rate is 15.\n",
    "\n",
    "### How do you achieve an IT of 1 second?\n",
    "<details><summary>Answer</summary>\n",
    "IT on square wave volume is determined by flow. Flow (L/min or L/second) is constant in square wave, so if we need to get a total tidal volume of 0.5L then flow would need to be 30L/min or 0.5L/s</details>\n",
    "\n",
    "### What would the expiratory time be?\n",
    "<details><summary>Answer</summary>\n",
    "If the respiratory rate is 15 and each inspiration is taking 1 second, then 15seconds every minute is spent on inspiration and 45 seconds is spent on expiration. 45/15 = 3 seconds which is the expiratory time</details>\n",
    "\n",
    "### What is the expected plateau pressure and peak inspiratory pressure?\n",
    "<details><summary>Answer</summary>\n",
    "When looking at the equation of motion ($P_\\text{aw} = \\dot{V}R + \\frac{V}{C} + \\text{PEEP}$), in volume control square wave the plateau pressure is defined by $\\frac{V}{C} + \\text{PEEP}$ because during an inspiratory hold (to check the plateau pressure), flow ($\\dot{V}$) goes to zero. In order to calculate the peak inspiratory pressure, in square wave flow volume ventilation, you must know the resistance in addition to the flow, volume, compliance and PEEP:  $P_\\text{aw} = \\dot{V}R + \\frac{V}{C} + \\text{PEEP}$. KEY CONCEPT: Peak inspiratory pressure and plateau pressures are NOT equal in square wave (at peak inspiratory pressure there is still ongoing flow, but at the plateau pressure the flow is 0 L/sec)</details>\n",
    "\n",
    "### Draw the Paw-time and flow-time curves. Which is set by the ventilator and which is variable?\n",
    "<img src=\"img/pressure_time.png\">\n",
    "<details><summary>Answer</summary>The flow-time curve is set by the ventilator in volume control. Pressure time curve is variable.  (This is in contrast to pressure control ventilation where the pressure time curve is fixed and the flow curve is variable). Press shift+enter below to see the graphs. </details>"
   ]
  },
  {
   "cell_type": "code",
   "execution_count": null,
   "metadata": {},
   "outputs": [],
   "source": [
    "plt.figure(figsize = [20,5])\n",
    "vent.plot('pressure', axis = plt.subplot(1,2,1))\n",
    "vent.plot('flow', axis = plt.subplot(1,2,2))"
   ]
  },
  {
   "cell_type": "markdown",
   "metadata": {},
   "source": [
    "### Superimpose the Palveolar-time curve on the Paw-time curve\n",
    "<img src=\"img/pressure_time.png\">\n",
    "<details><summary>Answer</summary>The flow-time curve is set by the ventilator in volume control. Pressure time curve is variable.  (This is in contrast to pressure control ventilation where the pressure time curve is fixed and the flow curve is variable). Press shift+enter below to see the graphs. </details>"
   ]
  },
  {
   "cell_type": "code",
   "execution_count": null,
   "metadata": {},
   "outputs": [],
   "source": [
    "plt.figure(figsize = [20,5])\n",
    "vent.plot(['pressure', 'p_alv'], axis = plt.subplot(1,2,1))\n",
    "vent.plot('flow', axis = plt.subplot(1,2,2))"
   ]
  },
  {
   "cell_type": "markdown",
   "metadata": {},
   "source": [
    "### On a pressure volume curve, where is the patient at end expiratory and end inspiration?\n",
    "<img src=\"img/compliance_curve.png\">\n",
    "<details><summary>Answer</summary>The flow-time curve is set by the ventilator in volume control. Pressure time curve is variable.  (This is in contrast to pressure control ventilation where the pressure time curve is fixed and the flow curve is variable). Press shift+enter below to see the graphs. </details>\n",
    "\n",
    "\n",
    "## Question 2\n",
    "The same patient (C=0.05L/cmH2O) is on VOLUME CONTROL DECELERATING wave flow ventilation. TV is 0.5L and PEEP is 5cmH2O. Respiratory rate is 15. Patient is relaxed and not fighting the ventilator.\n",
    "\n",
    "### How would one achieve an IT of 1 second? (assume flow slows to zero at end inspiration)\n",
    "<details><summary>Answer</summary>\n",
    "If we assume flow slows to zero at end inspiration, we need to recall a few key concepts to figure out the IT. The area under the flow-time curve represents volume. The flow curve (if flow goes to zero) is in the shape of a triangle. We can use the equation for the volume of a triangle to figure out the flow.\n",
    "    \n",
    "1. $ \\text{Volume} = 0.5 \\times \\text{(base)} \\times {(height)}$. Subsituting our numbers, $0.5L = 0.5 (1 s)(\\text{flow})$\n",
    "1. Flow = 1L/sec\n",
    "</details>\n",
    "\n",
    "### What would be the ET?\n",
    "<details><summary>Answer</summary>\n",
    "If the respiratory rate is 15, then each respiratory cycle has $\\frac{60}{15}$ seconds or 4 seconds. In each cycle,  inspiration is taking 1 second. There are 3 seconds remaining which is the expiratory time.\n",
    "</details>\n",
    "\n",
    "### What is the expected plateau pressure and peak pressure (assume flow slows to zero at end inspiration)\n",
    "<details><summary>Answer</summary>\n",
    "If we assume flow slows to zero at the end of inspiration, then the peak inspiratory pressure and the plateau pressure will be equal.\n",
    "</details>\n",
    "\n",
    "### Draw the expected Paw-time and flow-time curves. Which is set by the ventilator and which is variable\n",
    "<img src=\"img/pressure_time.png\">\n",
    "<details><summary>Answer</summary>\n",
    "Flow-time curve is set by the ventilator in volume control while the pressure-time curve is variable and dependent on things like compliance. \n",
    "</details>"
   ]
  },
  {
   "cell_type": "code",
   "execution_count": null,
   "metadata": {},
   "outputs": [],
   "source": [
    "vent['flow_pattern'] = vent.flow_patterns.decelerating\n",
    "vent.simulate(3)\n",
    "plt.figure(figsize = [20,5])\n",
    "vent.plot('pressure', axis = plt.subplot(1,2,1))\n",
    "vent.plot('flow', axis = plt.subplot(1,2,2))"
   ]
  },
  {
   "cell_type": "markdown",
   "metadata": {},
   "source": [
    "### Superimpose the Palveolar-time curve on the Paw-time curve\n",
    "<img src=\"img/pressure_time.png\">\n",
    "<details><summary>Answer</summary>The flow-time curve is set by the ventilator in volume control. Pressure time curve is variable.  (This is in contrast to pressure control ventilation where the pressure time curve is fixed and the flow curve is variable). Press shift+enter below to see the graphs. </details>"
   ]
  },
  {
   "cell_type": "code",
   "execution_count": null,
   "metadata": {},
   "outputs": [],
   "source": [
    "plt.figure(figsize = [20,5])\n",
    "vent.plot(['pressure', 'p_alv'], axis = plt.subplot(1,2,1))\n",
    "vent.plot('flow', axis = plt.subplot(1,2,2))"
   ]
  },
  {
   "cell_type": "markdown",
   "metadata": {},
   "source": [
    "### On a pressure volume curve, where is the patient at end expiratory and end inspiration?\n",
    "<img src=\"img/compliance_curve.png\">\n",
    "<details><summary>Answer</summary>The flow-time curve is set by the ventilator in volume control. Pressure time curve is variable.  (This is in contrast to pressure control ventilation where the pressure time curve is fixed and the flow curve is variable). Press shift+enter below to see the graphs. </details>"
   ]
  },
  {
   "cell_type": "markdown",
   "metadata": {},
   "source": [
    "## Practicum\n",
    "\n",
    "### Square Wave Flow\n",
    "Using the simulator at [this link](VolumeSimulator.ipynb), draw the curves for pressure in flow in the following situations:\n",
    "\n",
    "#### Peep Increased\n",
    "<img src=\"img/pressure_time.png\">\n",
    "\n",
    "#### Flow rate increased\n",
    "<img src=\"img/pressure_time.png\">\n",
    "\n",
    "#### Resistance increased\n",
    "<img src=\"img/pressure_time.png\">\n",
    "\n",
    "#### TV increased\n",
    "<img src=\"img/pressure_time.png\">\n",
    "\n",
    "#### Compliance increased\n",
    "<img src=\"img/pressure_time.png\">\n",
    "\n",
    "### Decelerating Wave Flow\n",
    "Using the simulator at [this link](VolumeSimulator.ipynb), draw the curves for pressure in flow in the following situations:\n",
    "\n",
    "#### Peep Increased\n",
    "<img src=\"img/pressure_time.png\">\n",
    "\n",
    "#### Flow rate increased\n",
    "<img src=\"img/pressure_time.png\">\n",
    "\n",
    "#### Resistance increased\n",
    "<img src=\"img/pressure_time.png\">\n",
    "\n",
    "#### TV increased\n",
    "<img src=\"img/pressure_time.png\">\n",
    "\n",
    "#### Compliance increased\n",
    "<img src=\"img/pressure_time.png\">"
   ]
  },
  {
   "cell_type": "markdown",
   "metadata": {},
   "source": [
    "## Question 4\n",
    "On volume control square wave flow of 30LPM, PEEP of 5 and TV of 0.5L, a patient has a PIP and Ppl of 20 and 15cm H2O respectively. PEEP is sequentially increased to 10 and 15\n",
    "\n",
    "### Estimate the inspiratory resistance\n",
    "<details><summary>Answer</summary>\n",
    " \n",
    "1. Ohm’s law: $V \\text{(voltage)} = I \\text{(current)} \\times R \\text{(resistance)}$. When applying Ohm’s law to the ventilator, we can rewrite this equation to read $\\Delta \\text{Pressure (voltage)} = \\text{Flow (current)} \\times \\text{resistance}$\n",
    "2.\tSo $\\text{Resistance} = \\frac{\\Delta \\text{Pressure}}{\\text{flow}}$\n",
    "3.\t$R = \\frac{\\text{PIP}-\\text{Plateau pressure}}{\\text{flow}} = \\frac{20-15}{0.5L/s} = 10\\text{cm H2O/L/s}$\n",
    "\n",
    "</details>\n",
    "\n",
    "### Estimate the inspiratory static compliance\n",
    "<details><summary>Answer</summary>\n",
    "    \n",
    "1. $\\text{Compliance} = \\frac{\\Delta \\text{Volume}}{\\Delta \\text{Pressure}} = \\frac{\\text{Tidal volume}}{\\text{Plateau pressure – PEEP}}$ \n",
    "1. $\\text{Compliance} = \\frac{0.5L}{15cm H2O – 5cm H2O} = 0.05L/cm H2O$\n",
    "</details>\n",
    "\n",
    "\n",
    "### Estimate the Ppl at a PEEP of 5\n",
    "<details><summary>Answer</summary>\n",
    "    \n",
    "1. $P_\\text{aw} = \\dot{V}R + \\frac{V}{C} + \\text{PEEP}$\n",
    "2. Plateau pressure is determined when $\\dot{V}$ goes to zero, so $P_\\text{plat} = \\frac{V}{C} + \\text{PEEP} =  0.5L/(0.05 \\text{L/cmH2O}) + 5 \\text{cmH2O} = 15 \\text{cmH2O} $\n",
    "</details>\n"
   ]
  },
  {
   "cell_type": "code",
   "execution_count": null,
   "metadata": {},
   "outputs": [],
   "source": []
  }
 ],
 "metadata": {
  "kernelspec": {
   "display_name": "Python [conda env:ds]",
   "language": "python",
   "name": "conda-env-ds-py"
  },
  "language_info": {
   "codemirror_mode": {
    "name": "ipython",
    "version": 3
   },
   "file_extension": ".py",
   "mimetype": "text/x-python",
   "name": "python",
   "nbconvert_exporter": "python",
   "pygments_lexer": "ipython3",
   "version": "3.6.8"
  }
 },
 "nbformat": 4,
 "nbformat_minor": 2
}
