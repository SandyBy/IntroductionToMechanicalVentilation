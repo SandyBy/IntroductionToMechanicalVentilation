{
 "cells": [
  {
   "cell_type": "code",
   "execution_count": 1,
   "metadata": {
    "init_cell": true
   },
   "outputs": [],
   "source": [
    "from VentSimulator.VolumeVentilator import VolumeVentilator\n",
    "import matplotlib.pyplot as plt\n",
    "%matplotlib inline\n",
    "plt.rcParams['figure.figsize'] = (20.0, 5.0)\n",
    "vent = VolumeVentilator()\n",
    "vent.simulate(3)"
   ]
  },
  {
   "cell_type": "markdown",
   "metadata": {},
   "source": [
    "# INSPIRATORY WAVEFORMS: VOLUME\n",
    "## Question 1\n",
    "A patient with static compliance of 0.05L/cmH2O is on VOLUME CONTROL SQUARE WAVE flow ventilation. TV is 0.5L and PEEP is 5cm H2O. Assume the patient is relaxed and not fighting the ventilator. Respiratory rate is 15.\n",
    "\n",
    "### How do you achieve an inspiratory time (IT) of 1 second?\n",
    "<details><summary>Answer</summary>\n",
    "The inspiratory time on square wave volume control is determined by flow. Flow (L/min or L/second) is constant in square wave, so if we need to get a total tidal volume of 0.5L then flow would need to be 30L/min or 0.5L/s</details>\n",
    "\n",
    "### What is the expiratory time?\n",
    "<details><summary>Answer</summary>\n",
    "If the respiratory rate is 15 and each inspiration is taking 1 second, then 15 seconds every minute is spent on inspiration and 45 seconds is spent on expiration. 45/15 = 3 seconds which is the expiratory time.\n",
    "\n",
    "Alternatively, if the respiratory rate is 15 then there is a breath every $\\frac{60}{15} = 4$ seconds. One second of this time is spent on inspiration (IT) so three seconds is left for expiration. This is an important concept -- the expiratory time is dependent on both the respiratory rate and the inspiratory time.</details>\n",
    "\n",
    "### What is the expected plateau pressure and peak inspiratory pressure?\n",
    "<details><summary>Answer</summary>\n",
    "When looking at the equation of motion ($P_\\text{aw} = \\dot{V}R + \\frac{V}{C} + \\text{PEEP}$), in volume control square wave the plateau pressure is defined by $\\frac{V}{C} + \\text{PEEP}$ because during an inspiratory hold (to check the plateau pressure), flow ($\\dot{V}$) goes to zero. In order to calculate the peak inspiratory pressure, in square wave flow volume ventilation, you must know the resistance in addition to the flow, volume, compliance and PEEP:  $P_\\text{aw} = \\dot{V}R + \\frac{V}{C} + \\text{PEEP}$. KEY CONCEPT: Peak inspiratory pressure and plateau pressures are NOT equal in square wave (at peak inspiratory pressure there is still ongoing flow, but at the plateau pressure the flow is 0 L/sec)</details>\n",
    "\n",
    "### Draw the Paw-time and flow-time curves. Which is set by the ventilator and which is variable?\n",
    "<img src=\"img/pressure_time.png\">\n",
    "<details><summary>Answer</summary>\n",
    "    \n",
    "The flow-time curve is set by the ventilator in volume control. Pressure time curve is variable.  (This is in contrast to pressure control ventilation where the pressure time curve is fixed and the flow curve is variable). Press shift+enter below to see the graphs.\n",
    "\n",
    "Think back to the equation of motion -- there are essentially two contributions to airway pressure: $\\dot{V}R$ and the alveolar pressure equation. \n",
    "\n",
    "In square wave volume ventilation, the flow is constant and thus the contribution of $\\dot{V}R$ is constant during the inspiratory cycle. Initially, airway pressure increases rapidly as flow rapidly increases to the constant level. After this initial increase, pressure then increases linearly throughout the remainder of inspiration. Why is it linear? Remember that flow (which is constant) is the change in volume per unit time. Thus, the alveolar volume linearly increases and the alveolar pressure also linearly increases. \n",
    "\n",
    "It's also worth noting that area under the flow-time curve represents volume, so the area under the inspiratory portion should equal the area under the expiratory portion.  We will discuss the shape of the expiratory flow limb in future lessons.  \n",
    "</details>"
   ]
  },
  {
   "cell_type": "code",
   "execution_count": null,
   "metadata": {},
   "outputs": [],
   "source": [
    "vent.plot('pressure', axis = plt.subplot(1,2,1))\n",
    "vent.plot('flow', scalefactor = 60, axis = plt.subplot(1,2,2));"
   ]
  },
  {
   "cell_type": "markdown",
   "metadata": {},
   "source": [
    "### Superimpose the Palveolar-time curve on the Paw-time curve\n",
    "<img src=\"img/pressure_time.png\">\n",
    "<details><summary>Answer</summary>\n",
    "The alveolar pressure is equal to the $\\frac{V}{C} + \\text{PEEP}$ portion of the equation of motion.  As discussed above, in square wave ventilation the slope of the pressure curve is linear (after the initial rapid rise in pressure related to the resistance of the ETT) as there is a constant increase in volume per unit time. The equation of motion says $P_\\text{aw} = \\dot{V}R + \\frac{V}{C} + \\text{PEEP}$.  In square wave, we assume flow, resistance, compliance and peep are all constant, so as volume increases the pressure increases linearly.\n",
    "    \n",
    "The alveolar pressure curve as the same slope as the airway pressure curve because both slopes are a function of V/C, so if we assume compliance is constant, as volume increases, the alveolar pressure will increase in a linear fashion.  The expiratory limb of the alveolar pressure curve will be explained in upcoming lessons but for now just appreciate it's general shape.\n",
    "\n",
    "Alveolar flow curve is the same and the airway flow curve -- in our model all the air that goes in the patient goes to the lungs (i.e. there is no loss in the circuit or bronchopleural fistula).\n",
    "\n",
    "Press shift+enter in the box below to see the graphs generated by the simulator.\n",
    "</details>"
   ]
  },
  {
   "cell_type": "code",
   "execution_count": null,
   "metadata": {},
   "outputs": [],
   "source": [
    "vent.plot(['pressure', 'p_alv'], axis = plt.subplot(1,2,1))\n",
    "vent.plot('flow', scalefactor = 60, axis = plt.subplot(1,2,2));"
   ]
  },
  {
   "cell_type": "markdown",
   "metadata": {},
   "source": [
    "### On a pressure volume curve, where is the patient at end expiratory and end inspiration?\n",
    "<img src=\"img/compliance_curve.png\">\n",
    "<details><summary>Answer</summary>\n",
    "    \n",
    "In our model, we assume that compliance is a constant across all volumes. While this model is useful it is inaccurate. Real people have a sigmoidal compliance curve with a lower and upper inflection point. The lower inflection point represents where atelectasis causes alveolar collapse. This leads to a temporarily \"stiffer\" lung until these units open. The upper inflection point represents where alveoli become overdistended and \"stiffer\". \n",
    "\n",
    "In common ventilation, we aim to remain on the linear portion of the curve. At end expiration, the patient is at PEEP with some amount of volume left in the lung (for naturally breathing people this would be RV).  At end inspiration, the patient will have gained a tidal volume of 500cc and will be at a peak inspiratory pressure.  These points should not traverse the lower and upper inflection points, respectively.\n",
    " </details>\n",
    "\n",
    "\n",
    "## Question 2\n",
    "The same patient (C=0.05L/cmH2O) is on **VOLUME CONTROL DECELERATING** wave flow ventilation. TV is 0.5L and PEEP is 5cmH2O. Respiratory rate is 15. Patient is relaxed and not fighting the ventilator.\n",
    "\n",
    "### How would one achieve an IT of 1 second? (assume flow slows to zero at end inspiration)\n",
    "<details><summary>Answer</summary>\n",
    "If we assume flow slows to zero at end inspiration, we need to recall a few key concepts to figure out the IT. The area under the flow-time curve represents volume. The flow curve (if flow goes to zero) is in the shape of a triangle. We can use the equation for the volume of a triangle to figure out the flow.\n",
    "    \n",
    "1. $ \\text{Volume} = 0.5 \\times \\text{(base)} \\times {(height)}$. Subsituting our numbers, $0.5L = 0.5 (1 s)(\\text{flow})$\n",
    "1. Flow = 1L/sec\n",
    "</details>\n",
    "\n",
    "### What would be the ET?\n",
    "<details><summary>Answer</summary>\n",
    "If the respiratory rate is 15, then each respiratory cycle has $\\frac{60}{15}$ seconds or 4 seconds. In each cycle,  inspiration is taking 1 second. There are 3 seconds remaining which is the expiratory time.\n",
    "</details>\n",
    "\n",
    "### What is the expected plateau pressure and peak pressure (assume flow slows to zero at end inspiration)\n",
    "<details><summary>Answer</summary>\n",
    "If we assume flow slows to zero at the end of inspiration, then the peak inspiratory pressure and the plateau pressure will be equal.\n",
    "</details>\n",
    "\n",
    "### Draw the expected Paw-time and flow-time curves.\n",
    "<img src=\"img/pressure_time.png\">\n",
    "<details><summary>Answer</summary>\n",
    "\n",
    "These curves are complex and show the areas where our model breaks down. In real life, the ventilator cannot instantaneously go from zero to full flow. Our model does not have that limitation.\n",
    "\n",
    "Initially the flow is quite high and the $\\dot{V}R$ term of the equation of motion is also quite high. This causes an an initially high airway pressure. As air flows into the alveoli the alveolar pressure begins to rise as the flow is simultaneously falling. If the $\\dot{V}_\\text{initial}R > \\frac{V_t}{C} + \\text{PEEP}$ (i.e. the initial pressure due to flow and resistance is greater than the plateau pressure) then the peak pressure will be early in the inspiratory cycle. Otherwise, the peak pressure will be later in the cycle. \n",
    "\n",
    "Since our flow decelerates to zero the airway pressure at the end of the breath is equal to the plateau pressure. \n",
    "</details>"
   ]
  },
  {
   "cell_type": "code",
   "execution_count": null,
   "metadata": {},
   "outputs": [],
   "source": [
    "vent['flow_pattern'] = vent.flow_patterns.decelerating\n",
    "vent.simulate(3)\n",
    "vent.plot('pressure', axis = plt.subplot(1,2,1))\n",
    "vent.plot('flow', scalefactor = 60, axis = plt.subplot(1,2,2));"
   ]
  },
  {
   "cell_type": "markdown",
   "metadata": {},
   "source": [
    "### Superimpose the Palveolar-time curve on the Paw-time curve\n",
    "<img src=\"img/pressure_time.png\">\n",
    "<details><summary>Answer</summary>\n",
    "Palv is still just the V/C + PEEP portion of the equation of motion.  If we assume compliance and peep are constants, we know that during decelerating flow the change in volume per unit time is also decreasing. We can imagine a curve where thee slope starts out fairly steep and decreases linearly.\n",
    "\n",
    "</details>"
   ]
  },
  {
   "cell_type": "code",
   "execution_count": null,
   "metadata": {},
   "outputs": [],
   "source": [
    "vent.plot(['pressure', 'p_alv'], axis = plt.subplot(1,2,1))\n",
    "vent.plot('flow', scalefactor = 60, axis = plt.subplot(1,2,2))"
   ]
  },
  {
   "cell_type": "markdown",
   "metadata": {},
   "source": [
    "### Of the Paw-time and flow-time curves, which is set by the ventilator and which is variable\n",
    "<details><summary>Answer</summary>\n",
    "Flow-time curve is set by the ventilator in volume control while the pressure-time curve is variable and dependent on things like compliance. \n",
    "</details>\n",
    "\n",
    "### On a pressure volume curve, where is the patient at end expiratory and end inspiration?\n",
    "<img src=\"img/compliance_curve.png\">\n",
    "<details><summary>Answer</summary>\n",
    "The pressure-volume relationship is independent of flow -- remember that it is a property of the patient not the ventilator. The patient should be at the same points as during square wave flow.\n",
    "</details>"
   ]
  },
  {
   "cell_type": "markdown",
   "metadata": {},
   "source": [
    "## Practicum\n",
    "\n",
    "### Square Wave Flow\n",
    "Using the simulator at [this link](VolumeSimulator.ipynb), draw the curves for pressure in flow in the following situations:\n",
    "\n",
    "#### Peep Increased\n",
    "<img src=\"img/pressure_time.png\">\n",
    "\n",
    "#### Flow rate increased\n",
    "<img src=\"img/pressure_time.png\">\n",
    "\n",
    "#### Resistance increased\n",
    "<img src=\"img/pressure_time.png\">\n",
    "\n",
    "#### TV increased\n",
    "<img src=\"img/pressure_time.png\">\n",
    "\n",
    "#### Compliance increased\n",
    "<img src=\"img/pressure_time.png\">\n",
    "\n",
    "### Decelerating Wave Flow\n",
    "Using the simulator at [this link](VolumeSimulator.ipynb), draw the curves for pressure in flow in the following situations:\n",
    "\n",
    "#### Peep Increased\n",
    "<img src=\"img/pressure_time.png\">\n",
    "\n",
    "#### Flow rate increased\n",
    "<img src=\"img/pressure_time.png\">\n",
    "\n",
    "#### Resistance increased\n",
    "<img src=\"img/pressure_time.png\">\n",
    "\n",
    "#### TV increased\n",
    "<img src=\"img/pressure_time.png\">\n",
    "\n",
    "#### Compliance increased\n",
    "<img src=\"img/pressure_time.png\">"
   ]
  },
  {
   "cell_type": "markdown",
   "metadata": {},
   "source": [
    "## Question 4\n",
    "On volume control square wave flow of 30LPM, PEEP of 5 and TV of 0.5L, a patient has a PIP and Ppl of 20 and 15cm H2O respectively. PEEP is sequentially increased to 10 and 15\n",
    "\n",
    "### Estimate the inspiratory resistance\n",
    "<details><summary>Answer</summary>\n",
    " \n",
    "1. Ohm’s law: $V \\text{(voltage)} = I \\text{(current)} \\times R \\text{(resistance)}$. When applying Ohm’s law to the ventilator, we can rewrite this equation to read $\\Delta \\text{Pressure (voltage)} = \\text{Flow (current)} \\times \\text{resistance}$\n",
    "2.\tSo $\\text{Resistance} = \\frac{\\Delta \\text{Pressure}}{\\text{flow}}$\n",
    "3.\t$R = \\frac{\\text{PIP}-\\text{Plateau pressure}}{\\text{flow}} = \\frac{20-15}{0.5L/s} = 10\\text{cm H2O/L/s}$\n",
    "\n",
    "</details>\n",
    "\n",
    "### Estimate the inspiratory static compliance\n",
    "<details><summary>Answer</summary>\n",
    "    \n",
    "1. $\\text{Compliance} = \\frac{\\Delta \\text{Volume}}{\\Delta \\text{Pressure}} = \\frac{\\text{Tidal volume}}{\\text{Plateau pressure – PEEP}}$ \n",
    "1. $\\text{Compliance} = \\frac{0.5L}{15cm H2O – 5cm H2O} = 0.05L/cm H2O$\n",
    "</details>\n",
    "\n",
    "\n",
    "### Estimate the Ppl at a PEEP of 5\n",
    "<details><summary>Answer</summary>\n",
    "    \n",
    "1. $P_\\text{aw} = \\dot{V}R + \\frac{V}{C} + \\text{PEEP}$\n",
    "2. Plateau pressure is determined when $\\dot{V}$ goes to zero, so $P_\\text{plat} = \\frac{V}{C} + \\text{PEEP} =  0.5L/(0.05 \\text{L/cmH2O}) + 5 \\text{cmH2O} = 15 \\text{cmH2O} $\n",
    "</details>\n"
   ]
  },
  {
   "cell_type": "code",
   "execution_count": null,
   "metadata": {},
   "outputs": [],
   "source": []
  }
 ],
 "metadata": {
  "kernelspec": {
   "display_name": "Python 3",
   "language": "python",
   "name": "python3"
  },
  "language_info": {
   "codemirror_mode": {
    "name": "ipython",
    "version": 3
   },
   "file_extension": ".py",
   "mimetype": "text/x-python",
   "name": "python",
   "nbconvert_exporter": "python",
   "pygments_lexer": "ipython3",
   "version": "3.7.4"
  }
 },
 "nbformat": 4,
 "nbformat_minor": 2
}
