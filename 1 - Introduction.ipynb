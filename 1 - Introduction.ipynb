{
 "cells": [
  {
   "cell_type": "markdown",
   "metadata": {},
   "source": [
    "# Introduction to Mechanical Ventilation\n",
    "\n",
    "\n",
    "## Layout of This Course\n",
    "\n",
    "This course is intendent for internal medicine residents and new pulmonary fellows who want to learn about the details of mechanical ventilation. The goal is that you understand the basic mechanics and how they combine into modern mechanical ventilators.\n",
    "\n",
    "## Deriving the Equation of Motion\n",
    "### Ohm's Law\n",
    "Fundamentally, ventilators force air from one spot to another. But what causes flow? In our model, flow is caused by a pressure difference between to points. Think way back to when you studied physics. Does this seem similar to anything you studied?\n",
    "\n",
    "For electriciy, we have Ohm's law: \n",
    "$$V=IR$$\n",
    "For the flow of gas, our equivalent to voltage is the difference in pressure ($\\Delta P$) and the equivalent to current is flow($\\dot V$). This gives us:\n",
    "$$\\Delta P = \\dot V R$$\n",
    "When the machine gives a breath, what is the difference in pressure? The difference in pressure is the difference between the pressure at the end of the endotracheal tube and the pressure in the alveolus.\n",
    "\n",
    "### Alveolar Pressure Equation\n",
    "In our simplified model, we will start with a couple definitions. Lung have stretch -- as you add more air they push back on the airways. We call this compliance (C) and it has units ($\\text{mL}*\\text{cmH}_2\\text{O}^{-1}$). Think of it the amount of air that would flow into the lung if we applied 1 cmH2O of pressure. For now, we are going to consider this a constant (i.e. the compliance is the same for 10 mL and 10,000mL). The inverse of compliance is elastance if you hear someone use that term. They are really the same thing except elastance has inverse units. \n",
    "\n",
    "Before we start a breath, what is the pressure in the lung? Well the instant before we start a breath is presumably after the breath before it. We call the pressure at the end of a breath PEEP (or positive end expiratory pressure). \n",
    "\n",
    "Now we can write out an equation for the pressure in the alveolus for a given volume ($V$):\n",
    "$$P_\\text{alv} = \\frac{V}{C} + \\text{PEEP}$$\n",
    "\n",
    "#### Questions\n",
    "1. Whats is the $P_\\text{alv}$ for a tidal volume of 500mL, a compliance of 50 mL/cmH2O, and a PEEP of 5 cmH2O?\n",
    "\n",
    "### Equation of Motion\n",
    "Now that we know how to define $P_\\text{alv}$ we can go back to Ohm's law and rearrange the terms to get $P_\\text{airway}$ on the left and everything else on the right:\n",
    "$$\\begin{eqnarray} \n",
    "    \\Delta P & = & \\dot V R \\\\\n",
    "    P_\\text{airway} - P_\\text{alv} & = & \\dot V R \\\\\n",
    "    P_\\text{airway} - (\\frac{V}{C} + \\text{PEEP}) & = & \\dot V R \\\\\n",
    "    P_\\text{airway} & = & \\dot V R + \\frac{V}{C} + \\text{PEEP}\\\\\n",
    "\\end{eqnarray}$$\n",
    "This is the equation of motion and from this we can model basically all of mechanical ventilation. For simplicity we often call $P_\\text{airway}$ just $P$. Here's the most common form of the equation:\n",
    "$$P = \\dot V R + \\frac{V}{C} + \\text{PEEP}$$\n",
    "\n",
    "#### Questions\n",
    "1. When does $P_\\text{alv} = P_\\text{airway}$?\n",
    "1. What would happen to $P_\\text{alv}$ if we increased the resistance to flow (say by inserting a smaller endotracheal tube?)\n",
    "1. You go to see a patient with a peak airway pressure of 20, PEEP of 5, and plateu pressure of 15.\n",
    "    1. What is the compliance"
   ]
  },
  {
   "cell_type": "code",
   "execution_count": null,
   "metadata": {},
   "outputs": [],
   "source": []
  }
 ],
 "metadata": {
  "kernelspec": {
   "display_name": "Python [conda env:ds-base]",
   "language": "python",
   "name": "conda-env-ds-base-py"
  },
  "language_info": {
   "codemirror_mode": {
    "name": "ipython",
    "version": 3
   },
   "file_extension": ".py",
   "mimetype": "text/x-python",
   "name": "python",
   "nbconvert_exporter": "python",
   "pygments_lexer": "ipython3",
   "version": "3.7.2"
  }
 },
 "nbformat": 4,
 "nbformat_minor": 2
}
